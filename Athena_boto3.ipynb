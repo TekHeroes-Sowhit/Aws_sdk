{
 "cells": [
  {
   "cell_type": "code",
   "execution_count": null,
   "metadata": {},
   "outputs": [],
   "source": [
    "import boto3\n",
    "client = boto3.client('athena')\n",
    "response = client.create_named_query(\n",
    "    Name='TestQuery',\n",
    "    Database='wbc',\n",
    "    QueryString='SELECT * FROM \"wbc\".\"thirdpartydata\" limit 10;',\n",
    ")\n",
    "print(response)\n"
   ]
  },
  {
   "cell_type": "code",
   "execution_count": null,
   "metadata": {},
   "outputs": [],
   "source": [
    "## list named queries\n",
    "response_list=client.list_named_queries(MaxResult=10,WorkGroup='primary')\n",
    "print(response_list)"
   ]
  },
  {
   "cell_type": "code",
   "execution_count": null,
   "metadata": {},
   "outputs": [],
   "source": [
    "## Getting a named query"
   ]
  },
  {
   "cell_type": "code",
   "execution_count": null,
   "metadata": {},
   "outputs": [],
   "source": [
    "import boto3\n",
    "client = boto3.client('athena')\n",
    "response = client.get_named_query(\n",
    "    NamedQueryId='b1fc5c6e-cd83-451e-b69f-6d7b1ae73795'\n",
    ")\n",
    "print(response)"
   ]
  },
  {
   "cell_type": "markdown",
   "metadata": {},
   "source": [
    "## Getting named queries in a batch"
   ]
  },
  {
   "cell_type": "code",
   "execution_count": null,
   "metadata": {},
   "outputs": [],
   "source": [
    "import boto3\n",
    "client = boto3.client('athena')\n",
    "response = client.batch_get_named_query(\n",
    "    NamedQueryIds=[\n",
    "        '9a09d73c-6a9a-4b86-8c33-1ecc68e161de',\n",
    "        '1dc56214-96e0-47ef-8944-1882c4043da2'\n",
    "    ]\n",
    ")\n",
    "print(response)"
   ]
  },
  {
   "cell_type": "code",
   "execution_count": null,
   "metadata": {},
   "outputs": [],
   "source": [
    "# Delete a named query"
   ]
  },
  {
   "cell_type": "code",
   "execution_count": null,
   "metadata": {},
   "outputs": [],
   "source": [
    "import boto3\n",
    "client = boto3.client('athena')\n",
    "response = client.delete_named_query(\n",
    "    NamedQueryId='b1fc5c6e-cd83-451e-b69f-6d7b1ae73795'\n",
    ")\n",
    "print(response)"
   ]
  },
  {
   "cell_type": "markdown",
   "metadata": {},
   "source": [
    "# ManagingAthena prepared query statements using Boto"
   ]
  },
  {
   "cell_type": "code",
   "execution_count": null,
   "metadata": {},
   "outputs": [],
   "source": [
    "# Create a prepared statement"
   ]
  },
  {
   "cell_type": "code",
   "execution_count": null,
   "metadata": {},
   "outputs": [],
   "source": [
    "import boto3\n",
    "client = boto3.client('athena')\n",
    "response = client.create_prepared_statement(\n",
    "    StatementName='Test_Statement',\n",
    "    WorkGroup='primary',\n",
    "    QueryStatement='SELECT * FROM \"wbc\".\"thirdpartydata\";',\n",
    ")\n",
    "print(response)"
   ]
  },
  {
   "cell_type": "code",
   "execution_count": null,
   "metadata": {},
   "outputs": [],
   "source": [
    "## Get a prepared statement"
   ]
  },
  {
   "cell_type": "code",
   "execution_count": null,
   "metadata": {},
   "outputs": [],
   "source": [
    "import boto3\n",
    "client = boto3.client('athena')\n",
    "response = client.get_prepared_statement(\n",
    "    StatementName='Test_Statement',\n",
    "    WorkGroup='primary'\n",
    ")\n",
    "print(response)"
   ]
  },
  {
   "cell_type": "code",
   "execution_count": null,
   "metadata": {},
   "outputs": [],
   "source": [
    "# List prepared statements"
   ]
  },
  {
   "cell_type": "code",
   "execution_count": null,
   "metadata": {},
   "outputs": [],
   "source": [
    "import boto3\n",
    "\n",
    "client = boto3.client('athena')\n",
    "response = client.list_prepared_statements(\n",
    "    WorkGroup='primary',\n",
    ")\n",
    "print(response)"
   ]
  },
  {
   "cell_type": "code",
   "execution_count": null,
   "metadata": {},
   "outputs": [],
   "source": [
    "# Update a prepared statement"
   ]
  },
  {
   "cell_type": "code",
   "execution_count": null,
   "metadata": {},
   "outputs": [],
   "source": [
    "import boto3\n",
    "client = boto3.client('athena')\n",
    "response = client.update_prepared_statement(\n",
    "    StatementName='Test_Statement',\n",
    "    WorkGroup='primary',\n",
    "    QueryStatement='SELECT * FROM \"wbc\".\"wbcdata\";',\n",
    ")\n",
    "print(response)"
   ]
  },
  {
   "cell_type": "code",
   "execution_count": null,
   "metadata": {},
   "outputs": [],
   "source": [
    "# Delete a prepared statement"
   ]
  },
  {
   "cell_type": "code",
   "execution_count": null,
   "metadata": {},
   "outputs": [],
   "source": [
    "import boto3\n",
    "client = boto3.client('athena')\n",
    "response = client.delete_prepared_statement(\n",
    "    StatementName='Test_Statement',\n",
    "    WorkGroup='primary'\n",
    ")\n",
    "print(response)"
   ]
  },
  {
   "cell_type": "markdown",
   "metadata": {},
   "source": [
    "## ManagingAthena query executions using Boto3"
   ]
  },
  {
   "cell_type": "code",
   "execution_count": null,
   "metadata": {},
   "outputs": [],
   "source": [
    "import boto3\n",
    "client = boto3.client('athena')\n",
    "response = client.start_query_execution(\n",
    "    QueryString='SELECT * FROM \"wbc\".\"wbcdata\";',\n",
    "    QueryExecutionContext={\n",
    "        'Database': 'wbc'\n",
    "    },\n",
    "     ResultConfiguration={\n",
    "        'OutputLocation': 's3://aws-athena-query-results-wbc01/',\n",
    "        },\n",
    "    WorkGroup='primary'\n",
    ")\n",
    "print(response)"
   ]
  },
  {
   "cell_type": "code",
   "execution_count": null,
   "metadata": {},
   "outputs": [],
   "source": [
    "# Stop query execution"
   ]
  },
  {
   "cell_type": "code",
   "execution_count": null,
   "metadata": {},
   "outputs": [],
   "source": [
    "import boto3\n",
    "client = boto3.client('athena')\n",
    "response = client.stop_query_execution(\n",
    "    QueryExecutionId='da20d77e-b714-465f-a98f-b3586da66585'\n",
    ")\n",
    "print(response)"
   ]
  },
  {
   "cell_type": "code",
   "execution_count": null,
   "metadata": {},
   "outputs": [],
   "source": [
    "# Get query execution"
   ]
  },
  {
   "cell_type": "code",
   "execution_count": null,
   "metadata": {},
   "outputs": [],
   "source": [
    "import boto3\n",
    "client = boto3.client('athena')\n",
    "response = client.get_query_execution(\n",
    "    QueryExecutionId='da20d77e-b714-465f-a98f-b3586da66585'\n",
    ")\n",
    "print(response)\n"
   ]
  },
  {
   "cell_type": "code",
   "execution_count": null,
   "metadata": {},
   "outputs": [],
   "source": [
    "# Get query execution results"
   ]
  },
  {
   "cell_type": "code",
   "execution_count": null,
   "metadata": {},
   "outputs": [],
   "source": [
    "import boto3\n",
    "client = boto3.client('athena')\n",
    "response = client.get_query_results(\n",
    "    QueryExecutionId='da20d77e-b714-465f-a98f-b3586da66585',\n",
    "    MaxResults=10\n",
    ")\n",
    "print(response)"
   ]
  },
  {
   "cell_type": "code",
   "execution_count": null,
   "metadata": {},
   "outputs": [],
   "source": [
    "# List query executions"
   ]
  },
  {
   "cell_type": "code",
   "execution_count": null,
   "metadata": {},
   "outputs": [],
   "source": [
    "import boto3\n",
    "client = boto3.client('athena')\n",
    "response = client.list_query_executions(\n",
    "    WorkGroup='primary',\n",
    "    MaxResults=12\n",
    ")\n",
    "print(response)"
   ]
  },
  {
   "cell_type": "code",
   "execution_count": null,
   "metadata": {},
   "outputs": [],
   "source": [
    "# get query executions in a Batch"
   ]
  },
  {
   "cell_type": "code",
   "execution_count": null,
   "metadata": {},
   "outputs": [],
   "source": [
    "import boto3\n",
    "client = boto3.client('athena')\n",
    "response = client.batch_get_query_execution(\n",
    "    QueryExecutionIds=[\n",
    "        '3a427d8f-2582-49b5-a752-1d87b8fe9107',\n",
    "        'f395e1f6-4a68-4ead-bb8d-cb7064a12341'\n",
    "    ]\n",
    ")\n",
    "print(response)"
   ]
  },
  {
   "cell_type": "markdown",
   "metadata": {},
   "source": [
    "## ManagingAthena workgroups using Boto3"
   ]
  },
  {
   "cell_type": "code",
   "execution_count": null,
   "metadata": {},
   "outputs": [],
   "source": [
    "# Create a workgroup"
   ]
  },
  {
   "cell_type": "code",
   "execution_count": null,
   "metadata": {},
   "outputs": [],
   "source": [
    "import boto3\n",
    "client = boto3.client('athena')\n",
    "response = client.create_work_group(\n",
    "    Name='AITeam',\n",
    "    Configuration={\n",
    "        'ResultConfiguration': {\n",
    "            'OutputLocation': 's3://aiteam01/'\n",
    "        }\n",
    "    }\n",
    ")\n",
    "print(response)"
   ]
  },
  {
   "cell_type": "code",
   "execution_count": null,
   "metadata": {},
   "outputs": [],
   "source": [
    "# List workgroups"
   ]
  },
  {
   "cell_type": "code",
   "execution_count": null,
   "metadata": {},
   "outputs": [],
   "source": [
    "import boto3\n",
    "client = boto3.client('athena')\n",
    "response = client.list_work_groups()\n",
    "print(response)"
   ]
  },
  {
   "cell_type": "code",
   "execution_count": null,
   "metadata": {},
   "outputs": [],
   "source": [
    "# Get a workgroup"
   ]
  },
  {
   "cell_type": "code",
   "execution_count": null,
   "metadata": {},
   "outputs": [],
   "source": [
    "import boto3\n",
    "client = boto3.client('athena')\n",
    "response = client.get_work_group(\n",
    "    WorkGroup='AITeam'\n",
    ")\n",
    "print(response)"
   ]
  },
  {
   "cell_type": "code",
   "execution_count": null,
   "metadata": {},
   "outputs": [],
   "source": [
    "# Updating a workgroup"
   ]
  },
  {
   "cell_type": "code",
   "execution_count": null,
   "metadata": {},
   "outputs": [],
   "source": [
    "import boto3\n",
    "client = boto3.client('athena')\n",
    "response = client.update_work_group(\n",
    "    WorkGroup='AITeam',\n",
    "    ConfigurationUpdates={\n",
    "        'ResultConfigurationUpdates': {\n",
    "            'OutputLocation': 's3://wbc-card-data01/',\n",
    "            }\n",
    "    }\n",
    ")\n",
    "print(response)"
   ]
  },
  {
   "cell_type": "code",
   "execution_count": null,
   "metadata": {},
   "outputs": [],
   "source": [
    "# Deleting a workgroup"
   ]
  },
  {
   "cell_type": "code",
   "execution_count": null,
   "metadata": {},
   "outputs": [],
   "source": [
    "import boto3\n",
    "client = boto3.client('athena')\n",
    "response = client.delete_work_group(\n",
    "    WorkGroup='AITeam',\n",
    "    RecursiveDeleteOption=True\n",
    ")\n",
    "print(response)"
   ]
  },
  {
   "cell_type": "code",
   "execution_count": null,
   "metadata": {},
   "outputs": [],
   "source": [
    "# ManagingAthena data catalogs using Boto3"
   ]
  },
  {
   "cell_type": "code",
   "execution_count": null,
   "metadata": {},
   "outputs": [],
   "source": [
    "import boto3\n",
    "client = boto3.client('athena')\n",
    "response = client.create_data_catalog(\n",
    "    Name='catalog01',\n",
    "    Type='GLUE',\n",
    "    Parameters={\n",
    "        'catalog-id':'AWS Account ID'\n",
    "    }\n",
    ")\n",
    "print(response)"
   ]
  },
  {
   "cell_type": "code",
   "execution_count": null,
   "metadata": {},
   "outputs": [],
   "source": [
    "# List data catalogs"
   ]
  },
  {
   "cell_type": "code",
   "execution_count": null,
   "metadata": {},
   "outputs": [],
   "source": []
  },
  {
   "cell_type": "code",
   "execution_count": null,
   "metadata": {},
   "outputs": [],
   "source": [
    "## Get a datalog"
   ]
  },
  {
   "cell_type": "code",
   "execution_count": null,
   "metadata": {},
   "outputs": [],
   "source": [
    "import boto3\n",
    "client = boto3.client('athena')\n",
    "response = client.get_data_catalog(\n",
    "    Name='catalog01'\n",
    ")\n",
    "print(response)\n"
   ]
  },
  {
   "cell_type": "code",
   "execution_count": null,
   "metadata": {},
   "outputs": [],
   "source": [
    "# Update a data catalog"
   ]
  },
  {
   "cell_type": "code",
   "execution_count": null,
   "metadata": {},
   "outputs": [],
   "source": [
    "client = boto3.client('athena')\n",
    "response = client.update_data_catalog(\n",
    "    Name='catalog01',\n",
    "    Type='GLUE',\n",
    "    Description='Test environment data catalog',\n",
    "    Parameters={\n",
    "        'catalog-id':'AWS Account ID'\n",
    "    }\n",
    ")\n",
    "print(response)"
   ]
  },
  {
   "cell_type": "code",
   "execution_count": null,
   "metadata": {},
   "outputs": [],
   "source": [
    "# Delete a data catalog"
   ]
  },
  {
   "cell_type": "code",
   "execution_count": null,
   "metadata": {},
   "outputs": [],
   "source": [
    "import boto3\n",
    "client = boto3.client('athena')\n",
    "response = client.delete_data_catalog(\n",
    "    Name='catalog01'\n",
    ")\n",
    "print(response)"
   ]
  },
  {
   "cell_type": "code",
   "execution_count": null,
   "metadata": {},
   "outputs": [],
   "source": [
    "# ManagingAthena table metadata using Boto3"
   ]
  },
  {
   "cell_type": "code",
   "execution_count": null,
   "metadata": {},
   "outputs": [],
   "source": [
    "import boto3\n",
    "client = boto3.client('athena')\n",
    "response = client.list_table_metadata(\n",
    "    CatalogName='AwsDataCatalog',\n",
    "    DatabaseName='wbc',\n",
    ")\n",
    "print(response)"
   ]
  },
  {
   "cell_type": "code",
   "execution_count": null,
   "metadata": {},
   "outputs": [],
   "source": [
    "# Get table metadata"
   ]
  },
  {
   "cell_type": "code",
   "execution_count": null,
   "metadata": {},
   "outputs": [],
   "source": [
    "import boto3\n",
    "client = boto3.client('athena')\n",
    "response = client.get_table_metadata(\n",
    "    CatalogName='AwsDataCatalog',\n",
    "    DatabaseName='wbc',\n",
    "    TableName='wbcdata'\n",
    ")\n",
    "print(response)"
   ]
  },
  {
   "cell_type": "code",
   "execution_count": null,
   "metadata": {},
   "outputs": [],
   "source": [
    "# # Managing resource tags using Boto3\n",
    "# Resource tags are used to group Amazon Web Service resources for different purposes, such as grouping and easing the identification of multiple environments and other use cases, \n",
    "# such as budgeting and cost allocation."
   ]
  },
  {
   "cell_type": "code",
   "execution_count": null,
   "metadata": {},
   "outputs": [],
   "source": [
    "# Add resource tag"
   ]
  },
  {
   "cell_type": "code",
   "execution_count": null,
   "metadata": {},
   "outputs": [],
   "source": [
    "import boto3\n",
    "client = boto3.client('athena')\n",
    "response = client.tag_resource(\n",
    "    ResourceARN='arn:aws:athena:us-east-2:585584209241:workgroup/primary',\n",
    "    Tags=[\n",
    "        {\n",
    "            'Key': 'Environment',\n",
    "            'Value': 'Test'\n",
    "        },\n",
    "    ]\n",
    ")\n",
    "print(response)\n"
   ]
  },
  {
   "cell_type": "code",
   "execution_count": null,
   "metadata": {},
   "outputs": [],
   "source": [
    "# List resource tags"
   ]
  },
  {
   "cell_type": "code",
   "execution_count": null,
   "metadata": {},
   "outputs": [],
   "source": [
    "import boto3\n",
    "client = boto3.client('athena')\n",
    "response = client.list_tags_for_resource(\n",
    "    ResourceARN='arn:aws:athena:us-east-2:585584209241:workgroup/primary'\n",
    ")\n",
    "print(response)"
   ]
  },
  {
   "cell_type": "code",
   "execution_count": null,
   "metadata": {},
   "outputs": [],
   "source": [
    "# Untag resource"
   ]
  },
  {
   "cell_type": "code",
   "execution_count": null,
   "metadata": {},
   "outputs": [],
   "source": [
    "import boto3\n",
    "client = boto3.client('athena')\n",
    "response = client.untag_resource(\n",
    "    ResourceARN='arn:aws:athena:us-east-2:585584209241:workgroup/primary',\n",
    "    TagKeys=[\n",
    "        'Environment',\n",
    "    ]\n",
    ")\n",
    "print(response)"
   ]
  },
  {
   "cell_type": "code",
   "execution_count": null,
   "metadata": {},
   "outputs": [],
   "source": [
    "# ListAthena engine versions"
   ]
  },
  {
   "cell_type": "code",
   "execution_count": null,
   "metadata": {},
   "outputs": [],
   "source": [
    "import boto3\n",
    "client = boto3.client('athena')\n",
    "response = client.list_engine_versions()\n",
    "print(response)"
   ]
  },
  {
   "cell_type": "code",
   "execution_count": null,
   "metadata": {},
   "outputs": [],
   "source": [
    "# https://hands-on.cloud/boto3-athena-python-tutorial/"
   ]
  }
 ],
 "metadata": {
  "language_info": {
   "name": "python"
  },
  "orig_nbformat": 4
 },
 "nbformat": 4,
 "nbformat_minor": 2
}
